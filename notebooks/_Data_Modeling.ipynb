{
 "cells": [
  {
   "cell_type": "markdown",
   "metadata": {},
   "source": [
    "# Modelo de Datos: Esquema en Estrella (Star Schema)\n",
    "\n",
    "En un Star Schema, la estructura se compone de una tabla de hechos en el centro y otras de dimensiones alrededor. Para este caso realizaremos la tabla de hechos:\n",
    "\n",
    "## 1. **Tabla de Hechos: \"Hechos_Costos\"**\n",
    "\n",
    "- **user_id**: Identificador del usuario (fk).\n",
    "- **month**: Periodo correspondiente al mes (fk).\n",
    "- **total_cost**: Costo total del usuario en el mes.\n",
    "- **total_messages**: Total de mensajes consumidos en el mes.\n",
    "- **total_mb**: Total de MB consumidos en el mes.\n",
    "- **total_minutes**: Total de minutos consumidos al mes.\n",
    "- **extra_message_cost**: Costo adicional por excedentes.\n",
    "- **extra_data_cost**: Costo adicional por excedentes.\n",
    "- **extra_call_cost**: Costo adicional por excedentes.\n",
    "\n",
    "## 2. **Tablas de Dimensiones**\n",
    "\n",
    "### a. **Dimensión de Usuarios (\"Dim_Usuarios\")**\n",
    "\n",
    "- **user_id**: Identificador único del usuario.\n",
    "- **first_name**, **last_name**: Nombre y apellido del usuario.\n",
    "- **age**: Edad del usuario.\n",
    "- **city**: Ciudad del usuario.\n",
    "- **plan_id**: Clave foránea que se conecta a la tabla de planes.\n",
    "\n",
    "### b. **Dimensión de Planes (\"Dim_Planes\")**\n",
    "Información sobre los planes:\n",
    "- **plan_id**: Identificador único del plan.\n",
    "- **plan_name**: Nombre del plan.\n",
    "- **usd_monthly_pay**: Pago mensual del plan.\n",
    "- **messages_included**, **mb_per_month_included**, **minutes_included**: Lo que se incluye en el plan.\n",
    "- **usd_per_message**, **usd_per_gb**, **usd_per_minute**: Costos adicionales por excedentes.\n",
    "\n",
    "### c. **Dimensión Temporal (\"Dim_Temporal\")**\n",
    "Información sobre el mes y el año:\n",
    "- **month**: Clave del mes.\n",
    "- **year**: Año del mes.\n",
    "- **month_name**: Nombre del mes.\n",
    "\n",
    "## 3. **Relaciones entre las Tablas**\n",
    "\n",
    "- **Usuarios ↔ Planes**: Realcion entre la tabla de **Usuarios** y **Planes** por el campo plan_id.\n",
    "- **Usuarios ↔ Hechos_Costos**: Realcion entre la tabla de **Usuarios** y la de **Hechos_Costos** por el campo user_id.\n",
    "- **Planes ↔ Hechos_Costos**: Realcion entre la tabla de **Planes** y **Hechos_Costos** por el campoplan_id.\n",
    "- **Temporal ↔ Hechos_Costos**: Realcion entre la tabla **Dim_Temporal** y **Hechos_Costos** por el campo month.\n",
    "\n",
    "## 4. **Estructura Final del Modelo**\n",
    "\n",
    "1. **Dim_Usuarios**:\n",
    "   - `user_id`, `first_name, `last_name`, `age`, `city`, `plan_id`\n"
   ]
  }
 ],
 "metadata": {
  "kernelspec": {
   "display_name": "3.9.9",
   "language": "python",
   "name": "python3"
  },
  "language_info": {
   "codemirror_mode": {
    "name": "ipython",
    "version": 3
   },
   "file_extension": ".py",
   "mimetype": "text/x-python",
   "name": "python",
   "nbconvert_exporter": "python",
   "pygments_lexer": "ipython3",
   "version": "3.9.9"
  }
 },
 "nbformat": 4,
 "nbformat_minor": 2
}
