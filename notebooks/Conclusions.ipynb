{
 "cells": [
  {
   "cell_type": "markdown",
   "metadata": {},
   "source": [
    "## Modelo Seleccionado: **Regresión Lineal**\n",
    "\n",
    "### Explicación del Modelo:\n",
    "El modelo seleccionado es la **Regresión Lineal**, que predice el costo total del usuario en el próximo mes basado en variables como mensajes, minutos y uso de datos. Este modelo busca encontrar una combinación lineal de estas variables para predecir el costo total.\n",
    "\n",
    "### Precisión del Modelo:\n",
    "- **RMSE (Error Cuadrático Medio)**: 15.8641. El modelo tiene un error promedio de 15.86 unidades en sus predicciones.\n",
    "- **MAE (Error Absoluto Medio)**: 11.7274. La diferencia promedio entre las predicciones y los valores reales es de 11.73 unidades.\n",
    "- **R² (Coeficiente de Determinación)**: 0.8108. El modelo explica el 81.08% de la variabilidad del costo total.\n",
    "\n",
    "### Estrategias Basadas en los Resultados:\n",
    "1. **Precios Personalizados**: Podemos crear planes personalizados para los usuarios segun el uso de datoss, mensaje o llamadas y ofrecer promociones.\n",
    "2. **Promociones de Uso Bajo**: Para los usuarios de bajo uso podemos tranquilamente dar mas minutos,datos o llamadas porque de todas formas no lo van a usar.\n",
    "\n",
    "### Propuestas de Mejora para el Futuro:\n",
    "1. **Más Datos**: Recopilar más información sobre los usuarios, como preferencias y comportamientos previos, para mejorar la precisión del modelo.\n",
    "2. **Otras Variables**: Incluir variables adicionales como historial de uso, comportamiento de churn y promociones previas.\n",
    "4. **Ajustes de Hiperparámetros**: Optimizar los parámetros del modelo para mejorar su rendimiento.\n",
    "\n",
    "### Conclusión:\n",
    "La **Regresión Lineal** es un modelo efectivo que a mi parecer tiene una recision aceptable, que puede ser utilizado para implementar estrategias como precios personalizados y promociones dirigidas."
   ]
  }
 ],
 "metadata": {
  "language_info": {
   "name": "python"
  }
 },
 "nbformat": 4,
 "nbformat_minor": 2
}
